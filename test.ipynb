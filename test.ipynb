{
 "cells": [
  {
   "cell_type": "code",
   "execution_count": 2,
   "metadata": {},
   "outputs": [],
   "source": [
    "import numpy as np"
   ]
  },
  {
   "cell_type": "code",
   "execution_count": 43,
   "metadata": {},
   "outputs": [
    {
     "name": "stdout",
     "output_type": "stream",
     "text": [
      "  █  ░  ░  ░  █  ░  █  █  ░  ░ \n",
      "  █  █  ░  ░  █  ░  ░  ░  ░  █ \n",
      "  ░  ░  ░  ░  █  ░  ░  █  ░  ░ \n",
      "  ░  ░  ░  ░  ░  ░  ░  ░  ░  █ \n",
      "  ░  ░  ░  ░  █  ░  ░  ░  ░  ░ \n",
      "  ░  ░  █  ░  ░  ░  █  ░  ░  ░ \n",
      "  ░  ░  ░  █  ░  ░  ░  ░  ░  ░ \n",
      "  ░  ░  ░  ░  ░  ░  ░  ░  ░  ░ \n",
      "  ░  ░  ░  █  ░  ░  ░  ░  ░  ░ \n",
      "  █  ░  █  ░  █  ░  ░  ░  █  ░  \n"
     ]
    }
   ],
   "source": [
    "ROWS = 10\n",
    "COLS = 10\n",
    "MINES = 20\n",
    "CLOSED = 9\n",
    "\n",
    "mine_board = np.zeros(ROWS*COLS, dtype=int)\n",
    "mine_board[np.random.choice(ROWS*COLS, MINES, replace=False)] = 1\n",
    "mine_board = mine_board.reshape(ROWS, COLS)\n",
    "\n",
    "print_board = lambda arr: print(np.array2string(arr, separator=\"  \").replace('0', '░').replace('1', '█').replace(\"[\", \" \").replace(\"]\", \" \"))\n",
    "print_board(mine_board)"
   ]
  },
  {
   "cell_type": "code",
   "execution_count": 46,
   "metadata": {},
   "outputs": [],
   "source": [
    "def create_board():\n",
    "    board = np.zeros((10, ROWS, COLS), dtype=int)\n",
    "    board[CLOSED] = True\n",
    "\n",
    "    mine_board = np.zeros(ROWS*COLS, dtype=int)\n",
    "    mine_board[np.random.choice(ROWS*COLS, MINES, replace=False)] = 1\n",
    "    mine_board = mine_board.reshape(ROWS, COLS)\n",
    "    \n",
    "    return board, mine_board\n",
    "\n",
    "# check for mines in the neighbours\n",
    "def count_neighbour_mines(mine_board, x, y):\n",
    "\n",
    "    min_x = max(0, x-1)\n",
    "    max_x = min(ROWS-1, x+1)\n",
    "    min_y = max(0, y-1)\n",
    "    max_y = min(COLS-1, y+1)\n",
    "    mines = mine_board[min_x:max_x+1, min_y:max_y+1]\n",
    "    return np.sum(mines)\n",
    "                    \n",
    "\n",
    "# open the neighbours\n",
    "def open_neighbour_cells(board, mine_board, x, y):\n",
    "    board[CLOSED, x, y] = False\n",
    "\n",
    "    mines = count_neighbour_mines(mine_board, x, y)\n",
    "    board[mines, x, y] = True\n",
    "\n",
    "    return board"
   ]
  },
  {
   "cell_type": "code",
   "execution_count": 60,
   "metadata": {},
   "outputs": [
    {
     "name": "stdout",
     "output_type": "stream",
     "text": [
      "  ░  ░  ░  ░  ░  ░  ░  ░  ░  ░ \n",
      "  ░  ░  ░  ░  ░  ░  ░  ░  ░  ░ \n",
      "  ░  ░  ░  ░  ░  ░  ░  ░  ░  ░ \n",
      "  ░  ░  ░  ░  ░  ░  ░  ░  ░  ░ \n",
      "  ░  ░  ░  ░  ░  ░  ░  ░  ░  ░ \n",
      "  ░  ░  ░  ░  ░  ░  ░  ░  ░  ░ \n",
      "  ░  ░  ░  ░  ░  ░  ░  ░  ░  ░ \n",
      "  ░  ░  ░  ░  ░  ░  ░  ░  ░  ░ \n",
      "  ░  ░  ░  ░  ░  ░  ░  ░  ░  ░ \n",
      "  ░  ░  ░  ░  ░  ░  ░  ░  ░  ░  \n",
      "  ░  ░  ░  ░  ░  ░  ░  ░  ░  ░ \n",
      "  ░  ░  ░  ░  ░  ░  ░  ░  ░  ░ \n",
      "  ░  ░  ░  ░  ░  ░  ░  ░  ░  ░ \n",
      "  ░  ░  ░  ░  ░  ░  ░  ░  ░  ░ \n",
      "  ░  ░  ░  ░  ░  ░  ░  ░  ░  ░ \n",
      "  ░  ░  ░  ░  ░  ░  ░  ░  ░  ░ \n",
      "  ░  ░  ░  ░  ░  ░  ░  ░  ░  ░ \n",
      "  ░  ░  ░  ░  ░  ░  ░  ░  ░  ░ \n",
      "  ░  ░  ░  ░  ░  ░  ░  ░  ░  ░ \n",
      "  ░  ░  ░  ░  ░  ░  ░  ░  ░  ░  \n",
      "  ░  ░  ░  ░  ░  ░  ░  ░  ░  ░ \n",
      "  ░  ░  ░  ░  ░  ░  ░  ░  ░  ░ \n",
      "  ░  ░  ░  ░  ░  ░  ░  ░  ░  ░ \n",
      "  ░  ░  ░  ░  ░  ░  ░  ░  ░  ░ \n",
      "  ░  ░  ░  ░  ░  ░  ░  ░  ░  ░ \n",
      "  ░  ░  ░  ░  ░  ░  ░  ░  ░  ░ \n",
      "  ░  ░  ░  ░  ░  ░  ░  ░  ░  ░ \n",
      "  ░  ░  ░  ░  ░  ░  ░  ░  ░  ░ \n",
      "  ░  ░  ░  ░  ░  ░  ░  ░  ░  ░ \n",
      "  ░  ░  ░  ░  ░  ░  ░  ░  ░  ░  \n",
      "  ░  ░  ░  ░  ░  ░  ░  ░  ░  ░ \n",
      "  ░  ░  ░  ░  ░  ░  ░  ░  ░  ░ \n",
      "  ░  ░  ░  ░  ░  ░  ░  ░  ░  ░ \n",
      "  ░  ░  ░  ░  ░  ░  ░  ░  ░  ░ \n",
      "  ░  ░  ░  ░  ░  ░  ░  ░  ░  ░ \n",
      "  ░  ░  ░  ░  ░  ░  ░  ░  ░  ░ \n",
      "  ░  ░  ░  ░  ░  ░  ░  ░  ░  ░ \n",
      "  ░  ░  ░  ░  ░  ░  ░  ░  ░  ░ \n",
      "  ░  ░  ░  ░  ░  ░  ░  ░  ░  ░ \n",
      "  ░  ░  ░  ░  ░  ░  ░  ░  ░  ░  \n",
      "  ░  ░  ░  ░  ░  ░  ░  ░  ░  ░ \n",
      "  ░  ░  ░  ░  ░  ░  ░  ░  ░  ░ \n",
      "  ░  ░  ░  ░  ░  ░  ░  ░  ░  ░ \n",
      "  ░  ░  ░  ░  ░  ░  ░  ░  ░  ░ \n",
      "  ░  ░  ░  ░  ░  ░  ░  ░  ░  ░ \n",
      "  ░  ░  ░  ░  ░  ░  ░  ░  ░  ░ \n",
      "  ░  ░  ░  ░  ░  ░  ░  ░  ░  ░ \n",
      "  ░  ░  ░  ░  ░  ░  ░  ░  ░  ░ \n",
      "  ░  ░  ░  ░  ░  ░  ░  ░  ░  ░ \n",
      "  ░  ░  ░  ░  ░  ░  ░  ░  ░  ░  \n",
      "  ░  ░  ░  ░  ░  ░  ░  ░  ░  ░ \n",
      "  ░  ░  ░  ░  ░  ░  ░  ░  ░  ░ \n",
      "  ░  ░  ░  ░  ░  ░  ░  ░  ░  ░ \n",
      "  ░  ░  ░  ░  ░  ░  ░  ░  ░  ░ \n",
      "  ░  ░  ░  ░  ░  ░  ░  ░  ░  ░ \n",
      "  ░  ░  ░  ░  ░  ░  ░  ░  ░  ░ \n",
      "  ░  ░  ░  ░  ░  ░  ░  ░  ░  ░ \n",
      "  ░  ░  ░  ░  ░  ░  ░  ░  ░  ░ \n",
      "  ░  ░  ░  ░  ░  ░  ░  ░  ░  ░ \n",
      "  ░  ░  ░  ░  ░  ░  ░  ░  ░  ░  \n",
      "  ░  ░  ░  ░  ░  ░  ░  ░  ░  ░ \n",
      "  ░  ░  ░  ░  ░  ░  ░  ░  ░  ░ \n",
      "  ░  ░  ░  ░  ░  ░  ░  ░  ░  ░ \n",
      "  ░  ░  ░  ░  ░  ░  ░  ░  ░  ░ \n",
      "  ░  ░  ░  ░  ░  ░  ░  ░  ░  ░ \n",
      "  ░  ░  ░  ░  ░  ░  ░  ░  ░  ░ \n",
      "  ░  ░  ░  ░  ░  ░  ░  ░  ░  ░ \n",
      "  ░  ░  ░  ░  ░  ░  ░  ░  ░  ░ \n",
      "  ░  ░  ░  ░  ░  ░  ░  ░  ░  ░ \n",
      "  ░  ░  ░  ░  ░  ░  ░  ░  ░  ░  \n",
      "  ░  ░  ░  ░  ░  ░  ░  ░  ░  ░ \n",
      "  ░  ░  ░  ░  ░  ░  ░  ░  ░  ░ \n",
      "  ░  ░  ░  ░  ░  ░  ░  ░  ░  ░ \n",
      "  ░  ░  ░  ░  ░  ░  ░  ░  ░  ░ \n",
      "  ░  ░  ░  ░  ░  ░  ░  ░  ░  ░ \n",
      "  ░  ░  ░  ░  ░  ░  ░  ░  ░  ░ \n",
      "  ░  ░  ░  ░  ░  ░  ░  ░  ░  ░ \n",
      "  ░  ░  ░  ░  ░  ░  ░  ░  ░  ░ \n",
      "  ░  ░  ░  ░  ░  ░  ░  ░  ░  ░ \n",
      "  ░  ░  ░  ░  ░  ░  ░  ░  ░  ░  \n",
      "  ░  ░  ░  ░  ░  ░  ░  ░  ░  ░ \n",
      "  ░  ░  ░  ░  ░  ░  ░  ░  ░  ░ \n",
      "  ░  ░  ░  ░  ░  ░  ░  ░  ░  ░ \n",
      "  ░  ░  ░  ░  ░  ░  ░  ░  ░  ░ \n",
      "  ░  ░  ░  ░  ░  ░  ░  ░  ░  ░ \n",
      "  ░  ░  ░  ░  ░  ░  ░  ░  ░  ░ \n",
      "  ░  ░  ░  ░  ░  ░  ░  ░  ░  ░ \n",
      "  ░  ░  ░  ░  ░  ░  ░  ░  ░  ░ \n",
      "  ░  ░  ░  ░  ░  ░  ░  ░  ░  ░ \n",
      "  ░  ░  ░  ░  ░  ░  ░  ░  ░  ░  \n",
      "  █  █  █  █  █  █  █  █  █  █ \n",
      "  █  █  █  █  █  █  █  █  █  █ \n",
      "  █  █  █  █  █  █  █  █  █  █ \n",
      "  █  █  █  █  █  █  █  █  █  █ \n",
      "  █  █  █  █  █  █  █  █  █  █ \n",
      "  █  █  █  █  █  █  █  █  █  █ \n",
      "  █  █  █  █  █  █  █  █  █  █ \n",
      "  █  █  █  █  █  █  █  █  █  █ \n",
      "  █  █  █  █  █  █  █  █  █  █ \n",
      "  █  █  █  █  █  █  █  █  █  █  \n"
     ]
    },
    {
     "data": {
      "text/plain": [
       "[None, None, None, None, None, None, None, None, None, None]"
      ]
     },
     "execution_count": 60,
     "metadata": {},
     "output_type": "execute_result"
    }
   ],
   "source": [
    "[print_board(i)+\" \" for i in create_board()[0]]"
   ]
  },
  {
   "cell_type": "code",
   "execution_count": 3,
   "metadata": {},
   "outputs": [],
   "source": [
    "\n",
    "\n",
    "def reset_board():\n",
    "    board = np.zeros((10, ROWS, COLS), dtype=bool)\n",
    "    mine_board = np.zeros((ROWS, COLS), dtype=bool)\n",
    "    board[CLOSED] = 1\n",
    "\n",
    "    for i in np.random.choice(ROWS*COLS, ROWS*COLS, replace=False)[:MINES]:\n",
    "        mine_board[i//ROWS, i%COLS] = 1\n",
    "        \n",
    "    return board, mine_board\n",
    "    # return board, mine_board"
   ]
  },
  {
   "cell_type": "code",
   "execution_count": 45,
   "metadata": {},
   "outputs": [],
   "source": [
    "def method1():\n",
    "    mine_board = np.zeros((ROWS,COLS), dtype=int)\n",
    "\n",
    "    for i in np.random.choice(ROWS*COLS, ROWS*COLS, replace=False)[:MINES]:\n",
    "        mine_board[i//ROWS, i%COLS] = 1\n"
   ]
  },
  {
   "cell_type": "code",
   "execution_count": 150,
   "metadata": {},
   "outputs": [
    {
     "data": {
      "text/plain": [
       "array([ 0,  4,  9, 14, 21, 26, 27, 28, 30, 36, 37, 44, 49, 62, 63, 67, 69,\n",
       "       83, 90, 95], dtype=int64)"
      ]
     },
     "execution_count": 150,
     "metadata": {},
     "output_type": "execute_result"
    }
   ],
   "source": [
    "mine_board = np.zeros((ROWS,COLS), dtype=int)\n",
    "\n",
    "for i in np.random.choice(ROWS*COLS, ROWS*COLS, replace=False)[:MINES]:\n",
    "    mine_board[i//ROWS, i%COLS] = 1\n",
    "\n",
    "actions = ROWS*COLS\n",
    "\n",
    "invalid_actions = np.nonzero(mine_board.flatten() == True)[0]\n",
    "valid_actions = np.setdiff1d(np.arange(actions), invalid_actions)\n",
    "\n",
    "np.random.choice(valid_actions), valid_actions\n",
    "\n",
    "mine_board.flatten().nonzero()[0]"
   ]
  },
  {
   "cell_type": "code",
   "execution_count": 166,
   "metadata": {},
   "outputs": [],
   "source": [
    "def method3():\n",
    "    invalid_actions = mine_board.flatten().nonzero()[0]\n",
    "    valid_actions = (mine_board.flatten() == False).nonzero()[0]\n",
    "\n",
    "    invalid_actions\n",
    "    valid_actions"
   ]
  },
  {
   "cell_type": "code",
   "execution_count": 181,
   "metadata": {},
   "outputs": [],
   "source": [
    "def reset_board():\n",
    "\n",
    "    board = np.zeros((10, ROWS, COLS), dtype=bool)\n",
    "    mine_board = np.zeros((ROWS, COLS), dtype=bool)\n",
    "    board[CLOSED] = True\n",
    "\n",
    "    mines = np.random.choice(ROWS*COLS, MINES, replace=False)\n",
    "    \n",
    "    for mine in mines:\n",
    "        x = mine // ROWS\n",
    "        y = mine % COLS\n",
    "        mine_board[x, y] = True\n",
    "    \n",
    "    return board, mine_board"
   ]
  },
  {
   "cell_type": "code",
   "execution_count": 189,
   "metadata": {},
   "outputs": [],
   "source": [
    "import torch\n",
    "import numpy as np"
   ]
  },
  {
   "cell_type": "code",
   "execution_count": 167,
   "metadata": {},
   "outputs": [],
   "source": [
    "def method4():\n",
    "    invalid_actions = mine_board.flatten().nonzero()[0]\n",
    "    valid_actions = np.logical_not(mine_board.flatten()).nonzero()[0]\n",
    "\n",
    "    invalid_actions\n",
    "    valid_actions"
   ]
  },
  {
   "cell_type": "code",
   "execution_count": 44,
   "metadata": {},
   "outputs": [],
   "source": [
    "print_board = lambda arr: print(np.array2string(arr, separator=\"  \").replace('0', '░').replace('1', '█').replace(\"[\", \" \").replace(\"]\", \" \"))\n",
    "\n",
    "def method2():\n",
    "    mines = np.random.choice(ROWS*COLS, MINES, replace=False)\n",
    "    mine_board = np.zeros((ROWS,COLS), dtype=int)\n",
    "\n",
    "    for mine in mines:\n",
    "        x = mine // ROWS\n",
    "        y = mine % COLS\n",
    "        mine_board[x, y] = 1\n",
    "\n",
    "# print_board(mine_board)"
   ]
  },
  {
   "cell_type": "code",
   "execution_count": 173,
   "metadata": {},
   "outputs": [],
   "source": [
    "for _ in range(500_000):\n",
    "    method3()"
   ]
  },
  {
   "cell_type": "code",
   "execution_count": 172,
   "metadata": {},
   "outputs": [],
   "source": [
    "for _ in range(500_000):\n",
    "    method4()"
   ]
  }
 ],
 "metadata": {
  "kernelspec": {
   "display_name": "Python 3",
   "language": "python",
   "name": "python3"
  },
  "language_info": {
   "codemirror_mode": {
    "name": "ipython",
    "version": 3
   },
   "file_extension": ".py",
   "mimetype": "text/x-python",
   "name": "python",
   "nbconvert_exporter": "python",
   "pygments_lexer": "ipython3",
   "version": "3.10.6"
  },
  "orig_nbformat": 4,
  "vscode": {
   "interpreter": {
    "hash": "fcc73d9642ec3b9d82e7ed49b5b9648d1b6a3d10a9e25e6f863cf5cf46922fc4"
   }
  }
 },
 "nbformat": 4,
 "nbformat_minor": 2
}
