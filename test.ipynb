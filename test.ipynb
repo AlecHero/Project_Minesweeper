{
 "cells": [
  {
   "cell_type": "code",
   "execution_count": 1,
   "metadata": {},
   "outputs": [],
   "source": [
    "import numpy as np\n",
    "from Minesweeper import Minesweeper\n",
    "\n",
    "ROWS, COLS = 10, 10\n",
    "MINES = 20\n",
    "env = Minesweeper((ROWS, COLS), MINES)"
   ]
  },
  {
   "cell_type": "code",
   "execution_count": 46,
   "metadata": {},
   "outputs": [
    {
     "name": "stderr",
     "output_type": "stream",
     "text": [
      "C:\\Users\\Rednaxela\\AppData\\Local\\Temp\\ipykernel_11740\\3374367764.py:9: DeprecationWarning: elementwise comparison failed; this will raise an error in the future.\n",
      "  np.where(env.solved_board == env.solved_board[env.get_slice(2,2)])\n"
     ]
    },
    {
     "data": {
      "text/plain": [
       "(array([], dtype=int64),)"
      ]
     },
     "execution_count": 46,
     "metadata": {},
     "output_type": "execute_result"
    }
   ],
   "source": [
    "def get_slice(board, i, j):\n",
    "    min_x = max(0, i-1)\n",
    "    max_x = min(env.rows-1, i+1)\n",
    "    min_y = max(0, j-1)\n",
    "    max_y = min(env.cols-1, j+1)\n",
    "    \n",
    "    return board[min_x:max_x+1, min_y:max_y+1]\n",
    "\n",
    "np.where(env.solved_board == env.solved_board[env.get_slice(2,2)])"
   ]
  },
  {
   "cell_type": "code",
   "execution_count": 43,
   "metadata": {},
   "outputs": [
    {
     "name": "stdout",
     "output_type": "stream",
     "text": [
      "first:\n",
      " [[ 0  0  0  1  1  2 -1 -1  3  1]\n",
      " [ 1  1  0  1 -1  3  5 -1  4 -1]\n",
      " [-1  1  1  2  2  2 -1 -1  3  1]\n",
      " [ 2  3  3 -1  1  1  2  2  1  0]\n",
      " [ 1 -1 -1  2  1  0  0  1  1  1]\n",
      " [ 1  2  2  1  1  1  1  1 -1  1]\n",
      " [ 1  1  2  2  3 -1  1  1  1  1]\n",
      " [ 1 -1  4 -1 -1  3  2  1  0  0]\n",
      " [ 2  3 -1 -1  3  2 -1  1  0  0]\n",
      " [ 1 -1  3  2  1  1  1  1  0  0]]\n",
      "second:\n",
      " [[ 1  0  1]\n",
      " [ 1  1  2]\n",
      " [ 3  3 -1]]\n"
     ]
    }
   ],
   "source": [
    "def get_slice(self, i, j):\n",
    "    min_x = max(0, i-1)\n",
    "    max_x = min(self.rows-1, i+1)\n",
    "    min_y = max(0, j-1)\n",
    "    max_y = min(self.cols-1, j+1)\n",
    "    \n",
    "    return np.s_[min_x:max_x+1, min_y:max_y+1]\n",
    "\n",
    "\n",
    "print(\"first:\\n\", env.solved_board)\n",
    "print(\"second:\\n\", env.solved_board[env.get_slice(2,2)])"
   ]
  },
  {
   "cell_type": "code",
   "execution_count": 11,
   "metadata": {},
   "outputs": [
    {
     "name": "stdout",
     "output_type": "stream",
     "text": [
      "   ░  ░  ░  1  1  █ -1  █  █  █ \n",
      "   1  1  ░  1  █  █  █  █  █  █ \n",
      "   █  1  1  2  █  █  █  █  █  █ \n",
      "   2  █  █  █  1  █  █  █  1  █ \n",
      "   █  █  █  █  █  █  █  █  █  █ \n",
      "   █  █  █  █  █  █  █  █  █  █ \n",
      "   █  █  █  █  █  █  █  █  █  █ \n",
      "   █  █  █  █  █  █  █  █  █  █ \n",
      "   █  █  █  █  █  █  █  █  █  █ \n",
      "   █  █  █  █  █  █  █  █  █  █  \n"
     ]
    }
   ],
   "source": [
    "def check_saturation(x, y):\n",
    "    env.solved\n",
    "\n",
    "env.step(12)\n",
    "env.render()"
   ]
  }
 ],
 "metadata": {
  "kernelspec": {
   "display_name": "Python 3",
   "language": "python",
   "name": "python3"
  },
  "language_info": {
   "codemirror_mode": {
    "name": "ipython",
    "version": 3
   },
   "file_extension": ".py",
   "mimetype": "text/x-python",
   "name": "python",
   "nbconvert_exporter": "python",
   "pygments_lexer": "ipython3",
   "version": "3.10.6"
  },
  "orig_nbformat": 4,
  "vscode": {
   "interpreter": {
    "hash": "fcc73d9642ec3b9d82e7ed49b5b9648d1b6a3d10a9e25e6f863cf5cf46922fc4"
   }
  }
 },
 "nbformat": 4,
 "nbformat_minor": 2
}
