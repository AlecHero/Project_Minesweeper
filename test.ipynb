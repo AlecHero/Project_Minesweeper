{
 "cells": [
  {
   "cell_type": "code",
   "execution_count": 2,
   "metadata": {},
   "outputs": [],
   "source": [
    "import numpy as np"
   ]
  },
  {
   "cell_type": "code",
   "execution_count": 1,
   "metadata": {},
   "outputs": [],
   "source": [
    "from M_simple import *\n",
    "ROWS = 3\n",
    "COLS = 3\n",
    "MINES = 1"
   ]
  },
  {
   "cell_type": "code",
   "execution_count": 17,
   "metadata": {},
   "outputs": [
    {
     "data": {
      "text/plain": [
       "array([[[1, 0, 0],\n",
       "        [1, 0, 0],\n",
       "        [1, 1, 1]],\n",
       "\n",
       "       [[0, 1, 0],\n",
       "        [0, 1, 1],\n",
       "        [0, 0, 0]],\n",
       "\n",
       "       [[0, 0, 0],\n",
       "        [0, 0, 0],\n",
       "        [0, 0, 0]],\n",
       "\n",
       "       [[0, 0, 0],\n",
       "        [0, 0, 0],\n",
       "        [0, 0, 0]],\n",
       "\n",
       "       [[0, 0, 0],\n",
       "        [0, 0, 0],\n",
       "        [0, 0, 0]],\n",
       "\n",
       "       [[0, 0, 0],\n",
       "        [0, 0, 0],\n",
       "        [0, 0, 0]],\n",
       "\n",
       "       [[0, 0, 0],\n",
       "        [0, 0, 0],\n",
       "        [0, 0, 0]],\n",
       "\n",
       "       [[0, 0, 0],\n",
       "        [0, 0, 0],\n",
       "        [0, 0, 0]],\n",
       "\n",
       "       [[0, 0, 0],\n",
       "        [0, 0, 0],\n",
       "        [0, 0, 0]],\n",
       "\n",
       "       [[1, 1, 1],\n",
       "        [1, 1, 1],\n",
       "        [1, 1, 1]]])"
      ]
     },
     "execution_count": 17,
     "metadata": {},
     "output_type": "execute_result"
    }
   ],
   "source": [
    "def layer_board(board, solved_board):\n",
    "    rows, cols = solved_board.shape\n",
    "    for i in range(rows):\n",
    "        for j in range(cols):\n",
    "            if solved_board[i,j] != -1:\n",
    "                board[solved_board[i,j]][i,j] = 1\n",
    "    return board\n",
    "\n",
    "np.random.seed(9999)\n",
    "\n",
    "board, mine_board = create_board(ROWS, COLS, MINES)\n",
    "solved_board = solve_board(mine_board)\n",
    "\n",
    "layer_board(board, solved_board)\n",
    "board"
   ]
  },
  {
   "cell_type": "code",
   "execution_count": 60,
   "metadata": {},
   "outputs": [
    {
     "data": {
      "text/plain": [
       "(9.0, 9.0)"
      ]
     },
     "execution_count": 60,
     "metadata": {},
     "output_type": "execute_result"
    }
   ],
   "source": [
    "ting = lambda W, H, K, S, P: ((W - K + 2*P)/S, (H - K + 2*P)/S)\n",
    "\n",
    "ting(10, 10, 5, 1, 2)"
   ]
  },
  {
   "cell_type": "code",
   "execution_count": 43,
   "metadata": {},
   "outputs": [
    {
     "name": "stdout",
     "output_type": "stream",
     "text": [
      "  █  ░  ░  ░  █  ░  █  █  ░  ░ \n",
      "  █  █  ░  ░  █  ░  ░  ░  ░  █ \n",
      "  ░  ░  ░  ░  █  ░  ░  █  ░  ░ \n",
      "  ░  ░  ░  ░  ░  ░  ░  ░  ░  █ \n",
      "  ░  ░  ░  ░  █  ░  ░  ░  ░  ░ \n",
      "  ░  ░  █  ░  ░  ░  █  ░  ░  ░ \n",
      "  ░  ░  ░  █  ░  ░  ░  ░  ░  ░ \n",
      "  ░  ░  ░  ░  ░  ░  ░  ░  ░  ░ \n",
      "  ░  ░  ░  █  ░  ░  ░  ░  ░  ░ \n",
      "  █  ░  █  ░  █  ░  ░  ░  █  ░  \n"
     ]
    }
   ],
   "source": [
    "ROWS = 10\n",
    "COLS = 10\n",
    "MINES = 20\n",
    "CLOSED = 9\n",
    "\n",
    "mine_board = np.zeros(ROWS*COLS, dtype=int)\n",
    "mine_board[np.random.choice(ROWS*COLS, MINES, replace=False)] = 1\n",
    "mine_board = mine_board.reshape(ROWS, COLS)\n",
    "\n",
    "print_board = lambda arr: print(np.array2string(arr, separator=\"  \").replace('0', '░').replace('1', '█').replace(\"[\", \" \").replace(\"]\", \" \"))\n",
    "print_board(mine_board)"
   ]
  },
  {
   "cell_type": "code",
   "execution_count": 46,
   "metadata": {},
   "outputs": [],
   "source": [
    "def create_board():\n",
    "    board = np.zeros((10, ROWS, COLS), dtype=int)\n",
    "    board[CLOSED] = True\n",
    "\n",
    "    mine_board = np.zeros(ROWS*COLS, dtype=int)\n",
    "    mine_board[np.random.choice(ROWS*COLS, MINES, replace=False)] = 1\n",
    "    mine_board = mine_board.reshape(ROWS, COLS)\n",
    "    \n",
    "    return board, mine_board\n",
    "\n",
    "# check for mines in the neighbours\n",
    "def count_neighbour_mines(mine_board, x, y):\n",
    "\n",
    "    min_x = max(0, x-1)\n",
    "    max_x = min(ROWS-1, x+1)\n",
    "    min_y = max(0, y-1)\n",
    "    max_y = min(COLS-1, y+1)\n",
    "    mines = mine_board[min_x:max_x+1, min_y:max_y+1]\n",
    "    return np.sum(mines)\n",
    "                    \n",
    "\n",
    "# open the neighbours\n",
    "def open_neighbour_cells(board, mine_board, x, y):\n",
    "    board[CLOSED, x, y] = False\n",
    "\n",
    "    mines = count_neighbour_mines(mine_board, x, y)\n",
    "    board[mines, x, y] = True\n",
    "\n",
    "    return board"
   ]
  },
  {
   "cell_type": "code",
   "execution_count": 6,
   "metadata": {},
   "outputs": [
    {
     "data": {
      "text/plain": [
       "(array([[ 2,  2,  1,  1, -1,  1,  0,  1,  1,  1],\n",
       "        [-1, -1,  1,  1,  1,  2,  1,  2, -1,  1],\n",
       "        [ 2,  3,  2,  1,  0,  1, -1,  2,  1,  1],\n",
       "        [ 0,  2, -1,  2,  0,  2,  2,  2,  1,  1],\n",
       "        [ 0,  3, -1,  4,  1,  2, -1,  3,  2, -1],\n",
       "        [ 0,  2, -1, -1,  2,  3, -1, -1,  3,  2],\n",
       "        [ 1,  2,  2,  2,  2, -1,  3,  3, -1,  1],\n",
       "        [-1,  2,  2,  1,  2,  2,  2,  2,  1,  1],\n",
       "        [ 2, -1,  3, -1,  1,  1, -1,  1,  0,  0],\n",
       "        [ 1,  2, -1,  2,  1,  1,  1,  1,  0,  0]]),\n",
       " array([[0, 0, 0, 0, 1, 0, 0, 0, 0, 0],\n",
       "        [1, 1, 0, 0, 0, 0, 0, 0, 1, 0],\n",
       "        [0, 0, 0, 0, 0, 0, 1, 0, 0, 0],\n",
       "        [0, 0, 1, 0, 0, 0, 0, 0, 0, 0],\n",
       "        [0, 0, 1, 0, 0, 0, 1, 0, 0, 1],\n",
       "        [0, 0, 1, 1, 0, 0, 1, 1, 0, 0],\n",
       "        [0, 0, 0, 0, 0, 1, 0, 0, 1, 0],\n",
       "        [1, 0, 0, 0, 0, 0, 0, 0, 0, 0],\n",
       "        [0, 1, 0, 1, 0, 0, 1, 0, 0, 0],\n",
       "        [0, 0, 1, 0, 0, 0, 0, 0, 0, 0]]))"
      ]
     },
     "execution_count": 6,
     "metadata": {},
     "output_type": "execute_result"
    }
   ],
   "source": [
    "from M_simple import Minesweeper\n",
    "\n",
    "env = Minesweeper((10, 10), 20, [200,-100,5])\n",
    "\n",
    "env.solved_board, env.mine_board"
   ]
  },
  {
   "cell_type": "code",
   "execution_count": 60,
   "metadata": {},
   "outputs": [
    {
     "name": "stdout",
     "output_type": "stream",
     "text": [
      "  ░  ░  ░  ░  ░  ░  ░  ░  ░  ░ \n",
      "  ░  ░  ░  ░  ░  ░  ░  ░  ░  ░ \n",
      "  ░  ░  ░  ░  ░  ░  ░  ░  ░  ░ \n",
      "  ░  ░  ░  ░  ░  ░  ░  ░  ░  ░ \n",
      "  ░  ░  ░  ░  ░  ░  ░  ░  ░  ░ \n",
      "  ░  ░  ░  ░  ░  ░  ░  ░  ░  ░ \n",
      "  ░  ░  ░  ░  ░  ░  ░  ░  ░  ░ \n",
      "  ░  ░  ░  ░  ░  ░  ░  ░  ░  ░ \n",
      "  ░  ░  ░  ░  ░  ░  ░  ░  ░  ░ \n",
      "  ░  ░  ░  ░  ░  ░  ░  ░  ░  ░  \n",
      "  ░  ░  ░  ░  ░  ░  ░  ░  ░  ░ \n",
      "  ░  ░  ░  ░  ░  ░  ░  ░  ░  ░ \n",
      "  ░  ░  ░  ░  ░  ░  ░  ░  ░  ░ \n",
      "  ░  ░  ░  ░  ░  ░  ░  ░  ░  ░ \n",
      "  ░  ░  ░  ░  ░  ░  ░  ░  ░  ░ \n",
      "  ░  ░  ░  ░  ░  ░  ░  ░  ░  ░ \n",
      "  ░  ░  ░  ░  ░  ░  ░  ░  ░  ░ \n",
      "  ░  ░  ░  ░  ░  ░  ░  ░  ░  ░ \n",
      "  ░  ░  ░  ░  ░  ░  ░  ░  ░  ░ \n",
      "  ░  ░  ░  ░  ░  ░  ░  ░  ░  ░  \n",
      "  ░  ░  ░  ░  ░  ░  ░  ░  ░  ░ \n",
      "  ░  ░  ░  ░  ░  ░  ░  ░  ░  ░ \n",
      "  ░  ░  ░  ░  ░  ░  ░  ░  ░  ░ \n",
      "  ░  ░  ░  ░  ░  ░  ░  ░  ░  ░ \n",
      "  ░  ░  ░  ░  ░  ░  ░  ░  ░  ░ \n",
      "  ░  ░  ░  ░  ░  ░  ░  ░  ░  ░ \n",
      "  ░  ░  ░  ░  ░  ░  ░  ░  ░  ░ \n",
      "  ░  ░  ░  ░  ░  ░  ░  ░  ░  ░ \n",
      "  ░  ░  ░  ░  ░  ░  ░  ░  ░  ░ \n",
      "  ░  ░  ░  ░  ░  ░  ░  ░  ░  ░  \n",
      "  ░  ░  ░  ░  ░  ░  ░  ░  ░  ░ \n",
      "  ░  ░  ░  ░  ░  ░  ░  ░  ░  ░ \n",
      "  ░  ░  ░  ░  ░  ░  ░  ░  ░  ░ \n",
      "  ░  ░  ░  ░  ░  ░  ░  ░  ░  ░ \n",
      "  ░  ░  ░  ░  ░  ░  ░  ░  ░  ░ \n",
      "  ░  ░  ░  ░  ░  ░  ░  ░  ░  ░ \n",
      "  ░  ░  ░  ░  ░  ░  ░  ░  ░  ░ \n",
      "  ░  ░  ░  ░  ░  ░  ░  ░  ░  ░ \n",
      "  ░  ░  ░  ░  ░  ░  ░  ░  ░  ░ \n",
      "  ░  ░  ░  ░  ░  ░  ░  ░  ░  ░  \n",
      "  ░  ░  ░  ░  ░  ░  ░  ░  ░  ░ \n",
      "  ░  ░  ░  ░  ░  ░  ░  ░  ░  ░ \n",
      "  ░  ░  ░  ░  ░  ░  ░  ░  ░  ░ \n",
      "  ░  ░  ░  ░  ░  ░  ░  ░  ░  ░ \n",
      "  ░  ░  ░  ░  ░  ░  ░  ░  ░  ░ \n",
      "  ░  ░  ░  ░  ░  ░  ░  ░  ░  ░ \n",
      "  ░  ░  ░  ░  ░  ░  ░  ░  ░  ░ \n",
      "  ░  ░  ░  ░  ░  ░  ░  ░  ░  ░ \n",
      "  ░  ░  ░  ░  ░  ░  ░  ░  ░  ░ \n",
      "  ░  ░  ░  ░  ░  ░  ░  ░  ░  ░  \n",
      "  ░  ░  ░  ░  ░  ░  ░  ░  ░  ░ \n",
      "  ░  ░  ░  ░  ░  ░  ░  ░  ░  ░ \n",
      "  ░  ░  ░  ░  ░  ░  ░  ░  ░  ░ \n",
      "  ░  ░  ░  ░  ░  ░  ░  ░  ░  ░ \n",
      "  ░  ░  ░  ░  ░  ░  ░  ░  ░  ░ \n",
      "  ░  ░  ░  ░  ░  ░  ░  ░  ░  ░ \n",
      "  ░  ░  ░  ░  ░  ░  ░  ░  ░  ░ \n",
      "  ░  ░  ░  ░  ░  ░  ░  ░  ░  ░ \n",
      "  ░  ░  ░  ░  ░  ░  ░  ░  ░  ░ \n",
      "  ░  ░  ░  ░  ░  ░  ░  ░  ░  ░  \n",
      "  ░  ░  ░  ░  ░  ░  ░  ░  ░  ░ \n",
      "  ░  ░  ░  ░  ░  ░  ░  ░  ░  ░ \n",
      "  ░  ░  ░  ░  ░  ░  ░  ░  ░  ░ \n",
      "  ░  ░  ░  ░  ░  ░  ░  ░  ░  ░ \n",
      "  ░  ░  ░  ░  ░  ░  ░  ░  ░  ░ \n",
      "  ░  ░  ░  ░  ░  ░  ░  ░  ░  ░ \n",
      "  ░  ░  ░  ░  ░  ░  ░  ░  ░  ░ \n",
      "  ░  ░  ░  ░  ░  ░  ░  ░  ░  ░ \n",
      "  ░  ░  ░  ░  ░  ░  ░  ░  ░  ░ \n",
      "  ░  ░  ░  ░  ░  ░  ░  ░  ░  ░  \n",
      "  ░  ░  ░  ░  ░  ░  ░  ░  ░  ░ \n",
      "  ░  ░  ░  ░  ░  ░  ░  ░  ░  ░ \n",
      "  ░  ░  ░  ░  ░  ░  ░  ░  ░  ░ \n",
      "  ░  ░  ░  ░  ░  ░  ░  ░  ░  ░ \n",
      "  ░  ░  ░  ░  ░  ░  ░  ░  ░  ░ \n",
      "  ░  ░  ░  ░  ░  ░  ░  ░  ░  ░ \n",
      "  ░  ░  ░  ░  ░  ░  ░  ░  ░  ░ \n",
      "  ░  ░  ░  ░  ░  ░  ░  ░  ░  ░ \n",
      "  ░  ░  ░  ░  ░  ░  ░  ░  ░  ░ \n",
      "  ░  ░  ░  ░  ░  ░  ░  ░  ░  ░  \n",
      "  ░  ░  ░  ░  ░  ░  ░  ░  ░  ░ \n",
      "  ░  ░  ░  ░  ░  ░  ░  ░  ░  ░ \n",
      "  ░  ░  ░  ░  ░  ░  ░  ░  ░  ░ \n",
      "  ░  ░  ░  ░  ░  ░  ░  ░  ░  ░ \n",
      "  ░  ░  ░  ░  ░  ░  ░  ░  ░  ░ \n",
      "  ░  ░  ░  ░  ░  ░  ░  ░  ░  ░ \n",
      "  ░  ░  ░  ░  ░  ░  ░  ░  ░  ░ \n",
      "  ░  ░  ░  ░  ░  ░  ░  ░  ░  ░ \n",
      "  ░  ░  ░  ░  ░  ░  ░  ░  ░  ░ \n",
      "  ░  ░  ░  ░  ░  ░  ░  ░  ░  ░  \n",
      "  █  █  █  █  █  █  █  █  █  █ \n",
      "  █  █  █  █  █  █  █  █  █  █ \n",
      "  █  █  █  █  █  █  █  █  █  █ \n",
      "  █  █  █  █  █  █  █  █  █  █ \n",
      "  █  █  █  █  █  █  █  █  █  █ \n",
      "  █  █  █  █  █  █  █  █  █  █ \n",
      "  █  █  █  █  █  █  █  █  █  █ \n",
      "  █  █  █  █  █  █  █  █  █  █ \n",
      "  █  █  █  █  █  █  █  █  █  █ \n",
      "  █  █  █  █  █  █  █  █  █  █  \n"
     ]
    },
    {
     "data": {
      "text/plain": [
       "[None, None, None, None, None, None, None, None, None, None]"
      ]
     },
     "execution_count": 60,
     "metadata": {},
     "output_type": "execute_result"
    }
   ],
   "source": [
    "[print_board(i)+\" \" for i in create_board()[0]]"
   ]
  },
  {
   "cell_type": "code",
   "execution_count": 3,
   "metadata": {},
   "outputs": [],
   "source": [
    "\n",
    "\n",
    "def reset_board():\n",
    "    board = np.zeros((10, ROWS, COLS), dtype=bool)\n",
    "    mine_board = np.zeros((ROWS, COLS), dtype=bool)\n",
    "    board[CLOSED] = 1\n",
    "\n",
    "    for i in np.random.choice(ROWS*COLS, ROWS*COLS, replace=False)[:MINES]:\n",
    "        mine_board[i//ROWS, i%COLS] = 1\n",
    "        \n",
    "    return board, mine_board\n",
    "    # return board, mine_board"
   ]
  },
  {
   "cell_type": "code",
   "execution_count": 45,
   "metadata": {},
   "outputs": [],
   "source": [
    "def method1():\n",
    "    mine_board = np.zeros((ROWS,COLS), dtype=int)\n",
    "\n",
    "    for i in np.random.choice(ROWS*COLS, ROWS*COLS, replace=False)[:MINES]:\n",
    "        mine_board[i//ROWS, i%COLS] = 1\n"
   ]
  },
  {
   "cell_type": "code",
   "execution_count": 6,
   "metadata": {},
   "outputs": [],
   "source": [
    "import numpy as np\n",
    "\n",
    "def create_board(rows, cols, mines):\n",
    "    board = np.zeros((10, rows, cols), dtype=int)\n",
    "    board[-1] = 1\n",
    "    \n",
    "    mine_board = np.zeros(rows*cols, dtype=int) #<-- flat\n",
    "    mine_board[np.random.choice(rows*cols, mines, replace=False)] = 1\n",
    "    mine_board = mine_board.reshape(rows, cols) #<-- grid\n",
    "    return board, mine_board\n",
    "\n",
    "\n",
    "def solve_board(board):\n",
    "    _, rows, cols = board.shape\n",
    "    solved_board = board.copy()\n",
    "    for i,j in np.argwhere(solved_board == -1):\n",
    "        for k in range(-1, 2):\n",
    "            for l in range(-1, 2):\n",
    "                if i + k >= 0 and i + k < cols and j + l >= 0 and j + l < rows:\n",
    "                    if solved_board[i + k][j + l] != -1:\n",
    "                        solved_board[i + k][j + l] += 1\n",
    "    return solved_board"
   ]
  },
  {
   "cell_type": "code",
   "execution_count": 59,
   "metadata": {},
   "outputs": [],
   "source": [
    "mine_board = create_board(10,10,20)[1]"
   ]
  },
  {
   "cell_type": "code",
   "execution_count": 140,
   "metadata": {},
   "outputs": [
    {
     "data": {
      "text/plain": [
       "array([[  1,   1,   1,   1,   1,   1,   1,   1,   1,   1],\n",
       "       [  1,   1,   1,   1,   1,   1,   1,   1,   1,   1],\n",
       "       [  1,   1,   1,   1,   1,   1,   1,   1,   1,   1],\n",
       "       [  1,   1,   1,   1,  -9,  -9,  -9,   1,   1,   1],\n",
       "       [  0,   0,   1,   0, -10, -10, -10,   0,   0,   0],\n",
       "       [  1,   0,   0,   0,  -9, -10, -10,   0,   0,   0],\n",
       "       [  0,   0,   0,   0,   1,   1,   1,   0,   0,   0],\n",
       "       [  0,   0,   1,   0,   0,   0,   0,   0,   0,   0],\n",
       "       [  0,   0,   0,   0,   1,   0,   0,   0,   0,   0],\n",
       "       [  1,   0,   0,   0,   0,   0,   1,   0,   0,   0]])"
      ]
     },
     "execution_count": 140,
     "metadata": {},
     "output_type": "execute_result"
    }
   ],
   "source": [
    "for k in range(-1, 2):\n",
    "    for l in range(-1, 2):\n",
    "        if i + k >= 0 and i + k < self.cols and j + l >= 0 and j + l < self.rows:\n",
    "            if solved_board[i + k][j + l] != -1:\n",
    "                solved_board[i + k][j + l] += 1"
   ]
  },
  {
   "cell_type": "code",
   "execution_count": 153,
   "metadata": {},
   "outputs": [
    {
     "data": {
      "text/plain": [
       "array([[ 8,  8,  8,  8,  8,  8,  8,  8,  8,  8],\n",
       "       [ 8,  8,  8,  8,  8,  8,  8,  8,  8,  8],\n",
       "       [ 8,  8,  8,  8,  8,  8,  8,  8,  8,  8],\n",
       "       [ 8,  8,  8,  8, -1, -1, -1,  8,  8,  8],\n",
       "       [ 0,  0,  8,  0, -1, -1, -1,  0,  0,  0],\n",
       "       [ 8,  0,  0,  0, -1, -1, -1,  0,  0,  0],\n",
       "       [ 0,  0,  0,  0,  8,  8,  8,  0,  0,  0],\n",
       "       [ 0,  0,  8,  0,  0,  0,  0,  0,  0,  0],\n",
       "       [ 0,  0,  0,  0,  8,  0,  0,  0,  0,  0],\n",
       "       [ 8,  0,  0,  0,  0,  0,  8,  0,  0,  0]])"
      ]
     },
     "execution_count": 153,
     "metadata": {},
     "output_type": "execute_result"
    }
   ],
   "source": [
    "mine_board = \n",
    "mine_board"
   ]
  },
  {
   "cell_type": "code",
   "execution_count": 145,
   "metadata": {},
   "outputs": [
    {
     "data": {
      "text/plain": [
       "array([[  1,  -9,  -9],\n",
       "       [  0, -10, -10],\n",
       "       [  0,  -9, -10]])"
      ]
     },
     "execution_count": 145,
     "metadata": {},
     "output_type": "execute_result"
    }
   ],
   "source": [
    "def get_slice(board, x, y):\n",
    "    min_x = max(0, x-1)\n",
    "    max_x = min(board.shape[0]-1, x+1)\n",
    "    min_y = max(0, y-1)\n",
    "    max_y = min(board.shape[1]-1, y+1)\n",
    "\n",
    "    return np.s_[min_x:max_x+1, min_y:max_y+1]\n",
    "\n",
    "mine_board[get_slice(mine_board, 4,4)]"
   ]
  },
  {
   "cell_type": "code",
   "execution_count": null,
   "metadata": {},
   "outputs": [],
   "source": [
    "def solve_board(self, mine_board):\n",
    "    solved_board = mine_board.copy()\n",
    "    for i,j in np.argwhere(solved_board == -1):\n",
    "        for k in range(-1, 2):\n",
    "            for l in range(-1, 2):\n",
    "                if i + k >= 0 and i + k < self.cols and j + l >= 0 and j + l < self.rows:\n",
    "                    if solved_board[i + k][j + l] != -1:\n",
    "                        solved_board[i + k][j + l] += 1\n",
    "    return solved_board"
   ]
  },
  {
   "cell_type": "code",
   "execution_count": null,
   "metadata": {},
   "outputs": [],
   "source": [
    "\n",
    "mine_board[x,y] = 0\n",
    "mine_board[min_pos] = 1\n",
    "solved_board[min_pos]"
   ]
  },
  {
   "cell_type": "code",
   "execution_count": 131,
   "metadata": {},
   "outputs": [],
   "source": [
    "def move_mine(mine_board, solved_board, x, y):\n",
    "    new_pos = np.argmin(mine_board) // 10, np.argmin(mine_board) % 10\n",
    "    mine_board[x,y] = 0\n",
    "    mine_board[new_pos] = 1\n",
    "    \n",
    "    min_x = max(0, x-1)\n",
    "    max_x = min(solved_board.shape[0]-1, x+1)\n",
    "    min_y = max(0, y-1)\n",
    "    max_y = min(solved_board.shape[1]-1, y+1)\n",
    "\n",
    "    solved_board[x,y] += 1\n",
    "    solved_board[min_x:max_x+1, min_y:max_y+1] -= 1\n",
    "    return solved_board"
   ]
  },
  {
   "cell_type": "code",
   "execution_count": 137,
   "metadata": {},
   "outputs": [
    {
     "data": {
      "text/plain": [
       "array([[  1,   1,   1,   1,   1,   1,   1,   1,   1,   1],\n",
       "       [  1,   1,   1,   1,   1,   1,   1,   1,   1,   1],\n",
       "       [  1,   1,   1,   1,   1,   1,   1,   1,   1,   1],\n",
       "       [  1,   1,   1,   1,  -9,  -9,  -9,   1,   1,   1],\n",
       "       [  0,   0,   1,   0, -10, -10, -10,   0,   0,   0],\n",
       "       [  1,   0,   0,   0,  -9, -10, -10,   0,   0,   0],\n",
       "       [  0,   0,   0,   0,   1,   1,   1,   0,   0,   0],\n",
       "       [  0,   0,   1,   0,   0,   0,   0,   0,   0,   0],\n",
       "       [  0,   0,   0,   0,   1,   0,   0,   0,   0,   0],\n",
       "       [  1,   0,   0,   0,   0,   0,   1,   0,   0,   0]])"
      ]
     },
     "execution_count": 137,
     "metadata": {},
     "output_type": "execute_result"
    }
   ],
   "source": [
    "mine_board\n",
    "add_one(mine_board, 4,5)"
   ]
  },
  {
   "cell_type": "code",
   "execution_count": null,
   "metadata": {},
   "outputs": [],
   "source": [
    "\n",
    "\n",
    "def solve_board(self, mine_board):\n",
    "    rows, cols = mine_board.shape\n",
    "    solved_board = mine_board.copy()\n",
    "    for i,j in np.argwhere(solved_board == -1):\n",
    "        for k in range(-1, 2):\n",
    "            for l in range(-1, 2):\n",
    "                if i + k >= 0 and i + k < cols and j + l >= 0 and j + l < rows:\n",
    "                    if solved_board[i + k][j + l] != -1:\n",
    "                        solved_board[i + k][j + l] += 1\n",
    "    return solved_board"
   ]
  },
  {
   "cell_type": "code",
   "execution_count": 98,
   "metadata": {},
   "outputs": [
    {
     "data": {
      "text/plain": [
       "array([[1, 1, 1, 1, 1, 1, 1, 1, 1, 1],\n",
       "       [1, 1, 1, 1, 1, 1, 1, 1, 1, 1],\n",
       "       [1, 1, 1, 1, 1, 1, 1, 1, 1, 1],\n",
       "       [1, 1, 1, 1, 1, 1, 1, 1, 1, 1],\n",
       "       [0, 0, 1, 0, 0, 0, 0, 0, 0, 0],\n",
       "       [1, 0, 0, 0, 1, 0, 0, 0, 0, 0],\n",
       "       [0, 0, 0, 0, 1, 1, 1, 0, 0, 0],\n",
       "       [0, 0, 1, 0, 0, 0, 0, 0, 0, 0],\n",
       "       [0, 0, 0, 0, 1, 0, 0, 0, 0, 0],\n",
       "       [1, 0, 0, 0, 0, 0, 1, 0, 0, 0]])"
      ]
     },
     "execution_count": 98,
     "metadata": {},
     "output_type": "execute_result"
    }
   ],
   "source": [
    "min_coord = (np.argmin(mine_board) // 10, np.argmin(mine_board) % 10)\n",
    "mine_board[min_coord] = 1\n",
    "mine_board"
   ]
  },
  {
   "cell_type": "code",
   "execution_count": 16,
   "metadata": {},
   "outputs": [
    {
     "data": {
      "text/plain": [
       "array([[1, 0, 0, 1, 0, 0, 1, 0, 1, 0],\n",
       "       [1, 0, 0, 0, 0, 0, 0, 0, 0, 0],\n",
       "       [0, 1, 0, 0, 0, 0, 0, 0, 0, 1],\n",
       "       [0, 0, 0, 1, 0, 0, 0, 0, 0, 0],\n",
       "       [0, 0, 0, 0, 0, 1, 1, 1, 1, 0],\n",
       "       [0, 0, 0, 0, 0, 0, 0, 0, 0, 0],\n",
       "       [0, 0, 0, 1, 1, 0, 0, 0, 0, 1],\n",
       "       [0, 0, 0, 0, 0, 0, 0, 0, 0, 1],\n",
       "       [0, 0, 0, 0, 0, 1, 0, 0, 0, 1],\n",
       "       [0, 1, 1, 0, 0, 0, 0, 1, 0, 0]])"
      ]
     },
     "execution_count": 16,
     "metadata": {},
     "output_type": "execute_result"
    }
   ],
   "source": [
    "mine_board[np.argmin(mine_board[0]),0] = 1\n",
    "mine_board"
   ]
  },
  {
   "cell_type": "code",
   "execution_count": 9,
   "metadata": {},
   "outputs": [],
   "source": [
    "ROWS = 10\n",
    "COLS = 10\n",
    "MINES = 20\n",
    "CLOSED = 9\n",
    "\n",
    "def place_mines(mine_board):\n",
    "    \n",
    "    # generate mines number of random unique numbers between 0 and 99\n",
    "    mines = np.random.choice(ROWS*COLS, MINES, replace=False)\n",
    "    \n",
    "    for mine in mines:\n",
    "        x = mine // ROWS\n",
    "        y = mine % COLS\n",
    "        mine_board[x, y] = 1\n",
    "\n",
    "    return mine_board\n",
    "\n",
    "\n",
    "# make last layer all closed\n",
    "def reset_board():\n",
    "\n",
    "    board = np.zeros((10, ROWS, COLS), dtype=int)\n",
    "    mine_board = np.zeros((ROWS, COLS), dtype=int)\n",
    "    board[CLOSED] = 1\n",
    "\n",
    "    mine_board = place_mines(mine_board)\n",
    "    \n",
    "    return board, mine_board\n",
    "\n",
    "\n",
    "# check for mines in the neighbours\n",
    "def count_neighbour_mines(mine_board, x, y):\n",
    "\n",
    "    min_x = max(0, x-1)\n",
    "    max_x = min(ROWS-1, x+1)\n",
    "    min_y = max(0, y-1)\n",
    "    max_y = min(COLS-1, y+1)\n",
    "    mines = mine_board[min_x:max_x+1, min_y:max_y+1]\n",
    "    return np.sum(mines)\n",
    "                    \n",
    "\n",
    "# open the neighbours\n",
    "def open_neighbour_cells(board, mine_board, x, y):\n",
    "    board[CLOSED, x, y] = 0\n",
    "\n",
    "    mines = count_neighbour_mines(mine_board, x, y)\n",
    "    board[mines, x, y] = 1\n",
    "\n",
    "    return board\n",
    "\n",
    "\n",
    "def step(board, action):\n",
    "    x = action // ROWS\n",
    "    y = action % COLS\n",
    "    \n",
    "    if mine_board[x, y]:\n",
    "        reward = -100\n",
    "        done = True\n",
    "    else:\n",
    "        board = open_neighbour_cells(board, mine_board, x, y)\n",
    "        reward = 20\n",
    "        done = False\n",
    "    if np.sum(board[CLOSED]) == MINES:\n",
    "        reward = 100\n",
    "        done = True\n",
    "\n",
    "    return board, reward, done"
   ]
  },
  {
   "cell_type": "code",
   "execution_count": 30,
   "metadata": {},
   "outputs": [
    {
     "name": "stdout",
     "output_type": "stream",
     "text": [
      "  ░  █  ░  ░  ░  █  ░  █  ░  ░ \n",
      "  ░  ░  ░  █  ░  █  ░  ░  ░  ░ \n",
      "  ░  ░  ░  █  ░  ░  ░  ░  ░  ░ \n",
      "  ░  █  ░  ░  █  █  ░  ░  ░  ░ \n",
      "  ░  ░  ░  ░  █  ░  ░  ░  ░  █ \n",
      "  █  ░  ░  ░  ░  █  ░  █  ░  ░ \n",
      "  ░  ░  ░  ░  ░  █  ░  ░  ░  ░ \n",
      "  ░  ░  ░  █  █  ░  ░  ░  ░  ░ \n",
      "  ░  ░  ░  █  ░  ░  ░  ░  ░  █ \n",
      "  ░  ░  ░  █  ░  ░  ░  ░  ░  ░  \n",
      "\n",
      "  ░  █  ░  █  ░  █  ░  ░  ░  ░ \n",
      "  ░  █  ░  ░  ░  ░  ░  ░  █  █ \n",
      "  ░  ░  █  ░  ░  ░  ░  █  ░  ░ \n",
      "  ░  ░  ░  ░  ░  ░  ░  █  ░  ░ \n",
      "  ░  ░  ░  █  ░  ░  ░  ░  ░  ░ \n",
      "  ░  ░  █  █  ░  ░  ░  ░  ░  █ \n",
      "  █  ░  ░  ░  ░  ░  ░  ░  █  █ \n",
      "  ░  ░  █  ░  ░  ░  ░  ░  ░  ░ \n",
      "  ░  ░  ░  ░  █  █  ░  ░  ░  ░ \n",
      "  █  ░  ░  ░  ░  ░  ░  ░  ░  ░  \n"
     ]
    }
   ],
   "source": [
    "np.random.seed(9999)\n",
    "print_board = lambda arr: print(np.array2string(arr, separator=\"  \").replace('0', '░').replace('1', '█').replace(\"[\", \" \").replace(\"]\", \" \"))\n",
    "\n",
    "print_board(reset_board()[1])\n",
    "print()\n",
    "print_board(create_board(10,10,20)[1])"
   ]
  },
  {
   "cell_type": "code",
   "execution_count": 166,
   "metadata": {},
   "outputs": [],
   "source": [
    "def method3():\n",
    "    invalid_actions = mine_board.flatten().nonzero()[0]\n",
    "    valid_actions = (mine_board.flatten() == False).nonzero()[0]\n",
    "\n",
    "    invalid_actions\n",
    "    valid_actions"
   ]
  },
  {
   "cell_type": "code",
   "execution_count": 181,
   "metadata": {},
   "outputs": [],
   "source": [
    "def reset_board():\n",
    "\n",
    "    board = np.zeros((10, ROWS, COLS), dtype=bool)\n",
    "    mine_board = np.zeros((ROWS, COLS), dtype=bool)\n",
    "    board[CLOSED] = True\n",
    "\n",
    "    mines = np.random.choice(ROWS*COLS, MINES, replace=False)\n",
    "    \n",
    "    for mine in mines:\n",
    "        x = mine // ROWS\n",
    "        y = mine % COLS\n",
    "        mine_board[x, y] = True\n",
    "    \n",
    "    return board, mine_board"
   ]
  },
  {
   "cell_type": "code",
   "execution_count": null,
   "metadata": {},
   "outputs": [],
   "source": []
  },
  {
   "cell_type": "code",
   "execution_count": 2,
   "metadata": {},
   "outputs": [
    {
     "data": {
      "text/plain": [
       "array([[[0., 0.],\n",
       "        [0., 0.]],\n",
       "\n",
       "       [[0., 0.],\n",
       "        [0., 0.]],\n",
       "\n",
       "       [[0., 0.],\n",
       "        [0., 0.]],\n",
       "\n",
       "       [[0., 0.],\n",
       "        [0., 0.]],\n",
       "\n",
       "       [[0., 0.],\n",
       "        [0., 0.]],\n",
       "\n",
       "       [[0., 0.],\n",
       "        [0., 0.]],\n",
       "\n",
       "       [[0., 0.],\n",
       "        [0., 0.]],\n",
       "\n",
       "       [[0., 0.],\n",
       "        [0., 0.]],\n",
       "\n",
       "       [[0., 0.],\n",
       "        [0., 0.]],\n",
       "\n",
       "       [[0., 0.],\n",
       "        [0., 0.]]])"
      ]
     },
     "execution_count": 2,
     "metadata": {},
     "output_type": "execute_result"
    }
   ],
   "source": [
    "import numpy as np\n",
    "\n",
    "np.zeros((10,2,2))"
   ]
  },
  {
   "cell_type": "code",
   "execution_count": 189,
   "metadata": {},
   "outputs": [],
   "source": [
    "import torch\n",
    "import numpy as np"
   ]
  },
  {
   "cell_type": "code",
   "execution_count": 167,
   "metadata": {},
   "outputs": [],
   "source": [
    "def method4():\n",
    "    invalid_actions = mine_board.flatten().nonzero()[0]\n",
    "    valid_actions = np.logical_not(mine_board.flatten()).nonzero()[0]\n",
    "\n",
    "    invalid_actions\n",
    "    valid_actions"
   ]
  },
  {
   "cell_type": "code",
   "execution_count": 44,
   "metadata": {},
   "outputs": [],
   "source": [
    "print_board = lambda arr: print(np.array2string(arr, separator=\"  \").replace('0', '░').replace('1', '█').replace(\"[\", \" \").replace(\"]\", \" \"))\n",
    "\n",
    "def method2():\n",
    "    mines = np.random.choice(ROWS*COLS, MINES, replace=False)\n",
    "    mine_board = np.zeros((ROWS,COLS), dtype=int)\n",
    "\n",
    "    for mine in mines:\n",
    "        x = mine // ROWS\n",
    "        y = mine % COLS\n",
    "        mine_board[x, y] = 1\n",
    "\n",
    "# print_board(mine_board)"
   ]
  },
  {
   "cell_type": "code",
   "execution_count": 173,
   "metadata": {},
   "outputs": [],
   "source": [
    "for _ in range(500_000):\n",
    "    method3()"
   ]
  },
  {
   "cell_type": "code",
   "execution_count": 172,
   "metadata": {},
   "outputs": [],
   "source": [
    "for _ in range(500_000):\n",
    "    method4()"
   ]
  }
 ],
 "metadata": {
  "kernelspec": {
   "display_name": "Python 3",
   "language": "python",
   "name": "python3"
  },
  "language_info": {
   "codemirror_mode": {
    "name": "ipython",
    "version": 3
   },
   "file_extension": ".py",
   "mimetype": "text/x-python",
   "name": "python",
   "nbconvert_exporter": "python",
   "pygments_lexer": "ipython3",
   "version": "3.9.13"
  },
  "orig_nbformat": 4,
  "vscode": {
   "interpreter": {
    "hash": "f3d42ad487b2b2994e012ab0306cc0a65d83ea9d079e1ade1e8453053e613de7"
   }
  }
 },
 "nbformat": 4,
 "nbformat_minor": 2
}
