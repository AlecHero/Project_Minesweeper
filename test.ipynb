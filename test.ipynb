{
 "cells": [
  {
   "cell_type": "code",
   "execution_count": 2,
   "metadata": {},
   "outputs": [],
   "source": [
    "import numpy as np"
   ]
  },
  {
   "cell_type": "code",
   "execution_count": 177,
   "metadata": {},
   "outputs": [],
   "source": [
    "ROWS = 10\n",
    "COLS = 10\n",
    "MINES = 20\n",
    "CLOSED = 9\n",
    "\n",
    "def reset_board():\n",
    "    board = np.zeros((10, ROWS, COLS), dtype=bool)\n",
    "    mine_board = np.zeros((ROWS, COLS), dtype=bool)\n",
    "    board[CLOSED] = 1\n",
    "\n",
    "    for i in np.random.choice(ROWS*COLS, ROWS*COLS, replace=False)[:MINES]:\n",
    "        mine_board[i//ROWS, i%COLS] = 1\n",
    "        \n",
    "    return board, mine_board\n",
    "    # return board, mine_board"
   ]
  },
  {
   "cell_type": "code",
   "execution_count": 45,
   "metadata": {},
   "outputs": [],
   "source": [
    "def method1():\n",
    "    mine_board = np.zeros((ROWS,COLS), dtype=int)\n",
    "\n",
    "    for i in np.random.choice(ROWS*COLS, ROWS*COLS, replace=False)[:MINES]:\n",
    "        mine_board[i//ROWS, i%COLS] = 1\n"
   ]
  },
  {
   "cell_type": "code",
   "execution_count": 150,
   "metadata": {},
   "outputs": [
    {
     "data": {
      "text/plain": [
       "array([ 0,  4,  9, 14, 21, 26, 27, 28, 30, 36, 37, 44, 49, 62, 63, 67, 69,\n",
       "       83, 90, 95], dtype=int64)"
      ]
     },
     "execution_count": 150,
     "metadata": {},
     "output_type": "execute_result"
    }
   ],
   "source": [
    "mine_board = np.zeros((ROWS,COLS), dtype=int)\n",
    "\n",
    "for i in np.random.choice(ROWS*COLS, ROWS*COLS, replace=False)[:MINES]:\n",
    "    mine_board[i//ROWS, i%COLS] = 1\n",
    "\n",
    "actions = ROWS*COLS\n",
    "\n",
    "invalid_actions = np.nonzero(mine_board.flatten() == True)[0]\n",
    "valid_actions = np.setdiff1d(np.arange(actions), invalid_actions)\n",
    "\n",
    "np.random.choice(valid_actions), valid_actions\n",
    "\n",
    "mine_board.flatten().nonzero()[0]"
   ]
  },
  {
   "cell_type": "code",
   "execution_count": 166,
   "metadata": {},
   "outputs": [],
   "source": [
    "def method3():\n",
    "    invalid_actions = mine_board.flatten().nonzero()[0]\n",
    "    valid_actions = (mine_board.flatten() == False).nonzero()[0]\n",
    "\n",
    "    invalid_actions\n",
    "    valid_actions"
   ]
  },
  {
   "cell_type": "code",
   "execution_count": 181,
   "metadata": {},
   "outputs": [],
   "source": [
    "def reset_board():\n",
    "\n",
    "    board = np.zeros((10, ROWS, COLS), dtype=bool)\n",
    "    mine_board = np.zeros((ROWS, COLS), dtype=bool)\n",
    "    board[CLOSED] = True\n",
    "\n",
    "    mines = np.random.choice(ROWS*COLS, MINES, replace=False)\n",
    "    \n",
    "    for mine in mines:\n",
    "        x = mine // ROWS\n",
    "        y = mine % COLS\n",
    "        mine_board[x, y] = True\n",
    "    \n",
    "    return board, mine_board"
   ]
  },
  {
   "cell_type": "code",
   "execution_count": 189,
   "metadata": {},
   "outputs": [],
   "source": [
    "import torch\n",
    "import numpy as np"
   ]
  },
  {
   "cell_type": "code",
   "execution_count": 167,
   "metadata": {},
   "outputs": [],
   "source": [
    "def method4():\n",
    "    invalid_actions = mine_board.flatten().nonzero()[0]\n",
    "    valid_actions = np.logical_not(mine_board.flatten()).nonzero()[0]\n",
    "\n",
    "    invalid_actions\n",
    "    valid_actions"
   ]
  },
  {
   "cell_type": "code",
   "execution_count": 44,
   "metadata": {},
   "outputs": [],
   "source": [
    "print_board = lambda arr: print(np.array2string(arr, separator=\"  \").replace('0', '░').replace('1', '█').replace(\"[\", \" \").replace(\"]\", \" \"))\n",
    "\n",
    "def method2():\n",
    "    mines = np.random.choice(ROWS*COLS, MINES, replace=False)\n",
    "    mine_board = np.zeros((ROWS,COLS), dtype=int)\n",
    "\n",
    "    for mine in mines:\n",
    "        x = mine // ROWS\n",
    "        y = mine % COLS\n",
    "        mine_board[x, y] = 1\n",
    "\n",
    "# print_board(mine_board)"
   ]
  },
  {
   "cell_type": "code",
   "execution_count": 173,
   "metadata": {},
   "outputs": [],
   "source": [
    "for _ in range(500_000):\n",
    "    method3()"
   ]
  },
  {
   "cell_type": "code",
   "execution_count": 172,
   "metadata": {},
   "outputs": [],
   "source": [
    "for _ in range(500_000):\n",
    "    method4()"
   ]
  }
 ],
 "metadata": {
  "kernelspec": {
   "display_name": "Python 3",
   "language": "python",
   "name": "python3"
  },
  "language_info": {
   "codemirror_mode": {
    "name": "ipython",
    "version": 3
   },
   "file_extension": ".py",
   "mimetype": "text/x-python",
   "name": "python",
   "nbconvert_exporter": "python",
   "pygments_lexer": "ipython3",
   "version": "3.9.13"
  },
  "orig_nbformat": 4,
  "vscode": {
   "interpreter": {
    "hash": "f3d42ad487b2b2994e012ab0306cc0a65d83ea9d079e1ade1e8453053e613de7"
   }
  }
 },
 "nbformat": 4,
 "nbformat_minor": 2
}
