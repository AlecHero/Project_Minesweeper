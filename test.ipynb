{
 "cells": [
  {
   "cell_type": "code",
   "execution_count": 3,
   "metadata": {},
   "outputs": [
    {
     "data": {
      "text/plain": [
       "array([[-1,  1,  0,  0,  0,  0,  0,  1,  2,  2],\n",
       "       [ 1,  1,  0,  0,  0,  1,  1,  2, -1, -1],\n",
       "       [ 0,  0,  0,  0,  0,  2, -1,  3,  4, -1],\n",
       "       [ 0,  0,  0,  0,  0,  2, -1,  2,  2, -1],\n",
       "       [ 0,  0,  0,  0,  0,  1,  1,  2,  2,  2],\n",
       "       [ 0,  0,  0,  0,  0,  0,  0,  2, -1,  2],\n",
       "       [ 0,  0,  0,  1,  1,  1,  0,  2, -1,  2],\n",
       "       [ 0,  0,  0,  1, -1,  1,  0,  1,  1,  1],\n",
       "       [ 0,  0,  0,  1,  1,  1,  0,  0,  0,  0],\n",
       "       [ 0,  0,  0,  0,  0,  0,  0,  0,  0,  0]])"
      ]
     },
     "execution_count": 3,
     "metadata": {},
     "output_type": "execute_result"
    }
   ],
   "source": [
    "import numpy as np\n",
    "from Minesweeper import Minesweeper\n",
    "\n",
    "np.random.seed(999)\n",
    "\n",
    "ROWS, COLS = 10, 10\n",
    "MINES = 10\n",
    "env = Minesweeper((ROWS, COLS), MINES)\n",
    "env.solved_board"
   ]
  },
  {
   "cell_type": "code",
   "execution_count": 2,
   "metadata": {},
   "outputs": [
    {
     "name": "stdout",
     "output_type": "stream",
     "text": [
      "  █  █  █  █  █  █  █  █  █  █ \n",
      "  █  █  █  █  █  █  █  █  █  █ \n",
      "  █  ░  ░  ░  █  █  █  █  █  █ \n",
      "  █  ░  ░  ░  █  █  █  █  █  █ \n",
      "  █  ░  ░  ░  █  █  █  █  █  █ \n",
      "  █  █  █  █  █  █  █  █  █  █ \n",
      "  █  █  █  █  █  █  █  █  █  █ \n",
      "  █  █  █  █  █  █  █  █  █  █ \n",
      "  █  █  █  █  █  █  █  █  █  █ \n",
      "  █  █  █  █  █  █  █  █  █  █  \n"
     ]
    }
   ],
   "source": [
    "def check_saturation(x, y):\n",
    "    env.solved\n",
    "\n",
    "env.step(32)\n",
    "env.render()"
   ]
  }
 ],
 "metadata": {
  "kernelspec": {
   "display_name": "Python 3",
   "language": "python",
   "name": "python3"
  },
  "language_info": {
   "codemirror_mode": {
    "name": "ipython",
    "version": 3
   },
   "file_extension": ".py",
   "mimetype": "text/x-python",
   "name": "python",
   "nbconvert_exporter": "python",
   "pygments_lexer": "ipython3",
   "version": "3.9.13"
  },
  "orig_nbformat": 4,
  "vscode": {
   "interpreter": {
    "hash": "f3d42ad487b2b2994e012ab0306cc0a65d83ea9d079e1ade1e8453053e613de7"
   }
  }
 },
 "nbformat": 4,
 "nbformat_minor": 2
}
